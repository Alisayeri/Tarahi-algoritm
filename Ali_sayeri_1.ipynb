{
  "nbformat": 4,
  "nbformat_minor": 0,
  "metadata": {
    "colab": {
      "provenance": []
    },
    "kernelspec": {
      "name": "python3",
      "display_name": "Python 3"
    },
    "language_info": {
      "name": "python"
    }
  },
  "cells": [
    {
      "cell_type": "markdown",
      "source": [
        "***Write a program that receives the name of an animal from the input and displays the last character of the animal's name with its index.***"
      ],
      "metadata": {
        "id": "XDPFD2Mdu6ca"
      }
    },
    {
      "cell_type": "code",
      "execution_count": null,
      "metadata": {
        "colab": {
          "base_uri": "https://localhost:8080/"
        },
        "id": "9WhN1Tjqt0hZ",
        "outputId": "f31036db-56ad-4b8f-a860-e8ffe56f7b34"
      },
      "outputs": [
        {
          "output_type": "stream",
          "name": "stdout",
          "text": [
            "Enter the name of an animal: cat\n",
            "The last character of the animal's name is ' t ' with index 2\n"
          ]
        }
      ],
      "source": [
        "animal_name = input(\"Enter the name of an animal: \")\n",
        "last_char_index = len(animal_name) - 1\n",
        "last_char = animal_name[last_char_index]\n",
        "print(\"The last character of the animal's name is '\", last_char, \"' with index\", last_char_index)"
      ]
    }
  ]
}